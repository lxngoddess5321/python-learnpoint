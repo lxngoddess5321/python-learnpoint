{
 "cells": [
  {
   "cell_type": "markdown",
   "metadata": {},
   "source": [
    "# 利用Python进行数据分析 2017 第二版 （Python for Data Analysis, 2nd Edition）中文翻译笔记\n",
    "\n",
    "这本书的英文版github仓库：[pydata-book](https://github.com/wesm/pydata-book)\n",
    "\n",
    "作者[Wes McKinney](https://github.com/wesm)是pandas的创作者，所以书中关于pandas的讲解也是最实用的部分。\n",
    "\n",
    "## 目录\n",
    "\n",
    "- [第1章 准备工作](https://www.jianshu.com/p/04d180d90a3f)\n",
    "\n",
    "- [第2章 Python语法基础，IPython和Jupyter Notebooks](https://www.jianshu.com/p/fc93e943e94a)\n",
    "\n",
    "- [第3章 Python的数据结构、函数和文件](https://www.jianshu.com/p/b444cda10aa0)\n",
    "\n",
    "- [第4章 NumPy基础：数组和矢量计算](https://www.jianshu.com/p/a380222a3292)\n",
    "\n",
    "- [第5章 pandas入门](https://www.jianshu.com/p/161364dd0acf)\n",
    "\n",
    "- [第6章 数据加载、存储与文件格式](https://www.jianshu.com/p/047d8c1c7e14)\n",
    "\n",
    "- [第7章 数据清洗和准备](https://www.jianshu.com/p/ac7bec000dad)\n",
    "\n",
    "- [第8章 数据规整：聚合、合并和重塑](https://www.jianshu.com/p/cfc035bae567)\n",
    "\n",
    "- [第9章 绘图和可视化](https://www.jianshu.com/p/7a0eafdd1340)\n",
    "\n",
    "- [第10章 数据聚合与分组运算](https://www.jianshu.com/p/b94deb5c7eb1)\n",
    "\n",
    "- [第11章 时间序列](https://www.jianshu.com/p/b94deb5c7eb1)\n",
    "\n",
    "- [第12章 pandas高级应用](https://www.jianshu.com/p/9d093ebcc5d8)\n",
    "\n",
    "- [第13章 Python建模库介绍](https://www.jianshu.com/p/e46a1ac36aa5)\n",
    "\n",
    "- [第14章 数据分析案例](https://www.jianshu.com/p/72b6c83bb69e)\n",
    "\n",
    "- [附录A NumPy高级应用](https://www.jianshu.com/p/3c3f7da88516)\n",
    "\n",
    "- [附录B 更多关于IPython的内容（完）](https://www.jianshu.com/p/fb6719a18cea)"
   ]
  },
  {
   "cell_type": "code",
   "execution_count": null,
   "metadata": {},
   "outputs": [],
   "source": []
  }
 ],
 "metadata": {
  "kernelspec": {
   "display_name": "Python 3",
   "language": "python",
   "name": "python3"
  },
  "language_info": {
   "codemirror_mode": {
    "name": "ipython",
    "version": 3
   },
   "file_extension": ".py",
   "mimetype": "text/x-python",
   "name": "python",
   "nbconvert_exporter": "python",
   "pygments_lexer": "ipython3",
   "version": "3.7.0"
  }
 },
 "nbformat": 4,
 "nbformat_minor": 2
}
